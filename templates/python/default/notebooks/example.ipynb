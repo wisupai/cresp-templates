{"cells":[{"cell_type":"markdown","metadata":{},"source":["# PROJECT_NAME Example Notebook

This is an example Jupyter notebook for your project."]}],"metadata":{"kernelspec":{"display_name":"Python 3","language":"python","name":"python3"}},"nbformat":4,"nbformat_minor":4}
